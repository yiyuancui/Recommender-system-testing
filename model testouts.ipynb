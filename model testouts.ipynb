{
 "cells": [
  {
   "cell_type": "code",
   "execution_count": 1,
   "id": "a101a5fd",
   "metadata": {},
   "outputs": [],
   "source": [
    "import gzip\n",
    "from collections import defaultdict\n",
    "import math\n",
    "import scipy.optimize\n",
    "from sklearn import svm\n",
    "import numpy\n",
    "import string\n",
    "import random\n",
    "import string\n",
    "from sklearn import linear_model"
   ]
  },
  {
   "cell_type": "code",
   "execution_count": 2,
   "id": "7cc629ec",
   "metadata": {},
   "outputs": [],
   "source": [
    "import pandas as pd\n",
    "import gzip\n",
    "import json"
   ]
  },
  {
   "cell_type": "code",
   "execution_count": 3,
   "id": "e809e96d",
   "metadata": {},
   "outputs": [
    {
     "ename": "KeyboardInterrupt",
     "evalue": "",
     "output_type": "error",
     "traceback": [
      "\u001b[1;31m---------------------------------------------------------------------------\u001b[0m",
      "\u001b[1;31mKeyboardInterrupt\u001b[0m                         Traceback (most recent call last)",
      "Cell \u001b[1;32mIn[3], line 14\u001b[0m\n\u001b[0;32m     11\u001b[0m         i \u001b[38;5;241m+\u001b[39m\u001b[38;5;241m=\u001b[39m \u001b[38;5;241m1\u001b[39m\n\u001b[0;32m     12\u001b[0m     \u001b[38;5;28;01mreturn\u001b[39;00m pd\u001b[38;5;241m.\u001b[39mDataFrame\u001b[38;5;241m.\u001b[39mfrom_dict(df, orient\u001b[38;5;241m=\u001b[39m\u001b[38;5;124m'\u001b[39m\u001b[38;5;124mindex\u001b[39m\u001b[38;5;124m'\u001b[39m)\n\u001b[1;32m---> 14\u001b[0m df \u001b[38;5;241m=\u001b[39m \u001b[43mgetDF\u001b[49m\u001b[43m(\u001b[49m\u001b[38;5;124;43m'\u001b[39;49m\u001b[38;5;124;43mTools_and_Home_Improvement_5.json.gz\u001b[39;49m\u001b[38;5;124;43m'\u001b[39;49m\u001b[43m)\u001b[49m\n",
      "Cell \u001b[1;32mIn[3], line 9\u001b[0m, in \u001b[0;36mgetDF\u001b[1;34m(path)\u001b[0m\n\u001b[0;32m      7\u001b[0m i \u001b[38;5;241m=\u001b[39m \u001b[38;5;241m0\u001b[39m\n\u001b[0;32m      8\u001b[0m df \u001b[38;5;241m=\u001b[39m {}\n\u001b[1;32m----> 9\u001b[0m \u001b[38;5;28;01mfor\u001b[39;00m d \u001b[38;5;129;01min\u001b[39;00m parse(path):\n\u001b[0;32m     10\u001b[0m     df[i] \u001b[38;5;241m=\u001b[39m d\n\u001b[0;32m     11\u001b[0m     i \u001b[38;5;241m+\u001b[39m\u001b[38;5;241m=\u001b[39m \u001b[38;5;241m1\u001b[39m\n",
      "Cell \u001b[1;32mIn[3], line 3\u001b[0m, in \u001b[0;36mparse\u001b[1;34m(path)\u001b[0m\n\u001b[0;32m      1\u001b[0m \u001b[38;5;28;01mdef\u001b[39;00m \u001b[38;5;21mparse\u001b[39m(path):\n\u001b[0;32m      2\u001b[0m     g \u001b[38;5;241m=\u001b[39m gzip\u001b[38;5;241m.\u001b[39mopen(path, \u001b[38;5;124m'\u001b[39m\u001b[38;5;124mrb\u001b[39m\u001b[38;5;124m'\u001b[39m)\n\u001b[1;32m----> 3\u001b[0m     \u001b[38;5;28;01mfor\u001b[39;00m l \u001b[38;5;129;01min\u001b[39;00m g:\n\u001b[0;32m      4\u001b[0m         \u001b[38;5;28;01myield\u001b[39;00m json\u001b[38;5;241m.\u001b[39mloads(l)\n",
      "File \u001b[1;32m~\\miniconda3\\envs\\tf2.6\\lib\\gzip.py:398\u001b[0m, in \u001b[0;36mGzipFile.readline\u001b[1;34m(self, size)\u001b[0m\n\u001b[0;32m    396\u001b[0m \u001b[38;5;28;01mdef\u001b[39;00m \u001b[38;5;21mreadline\u001b[39m(\u001b[38;5;28mself\u001b[39m, size\u001b[38;5;241m=\u001b[39m\u001b[38;5;241m-\u001b[39m\u001b[38;5;241m1\u001b[39m):\n\u001b[0;32m    397\u001b[0m     \u001b[38;5;28mself\u001b[39m\u001b[38;5;241m.\u001b[39m_check_not_closed()\n\u001b[1;32m--> 398\u001b[0m     \u001b[38;5;28;01mreturn\u001b[39;00m \u001b[38;5;28;43mself\u001b[39;49m\u001b[38;5;241;43m.\u001b[39;49m\u001b[43m_buffer\u001b[49m\u001b[38;5;241;43m.\u001b[39;49m\u001b[43mreadline\u001b[49m\u001b[43m(\u001b[49m\u001b[43msize\u001b[49m\u001b[43m)\u001b[49m\n",
      "File \u001b[1;32m~\\miniconda3\\envs\\tf2.6\\lib\\_compression.py:68\u001b[0m, in \u001b[0;36mDecompressReader.readinto\u001b[1;34m(self, b)\u001b[0m\n\u001b[0;32m     66\u001b[0m \u001b[38;5;28;01mdef\u001b[39;00m \u001b[38;5;21mreadinto\u001b[39m(\u001b[38;5;28mself\u001b[39m, b):\n\u001b[0;32m     67\u001b[0m     \u001b[38;5;28;01mwith\u001b[39;00m \u001b[38;5;28mmemoryview\u001b[39m(b) \u001b[38;5;28;01mas\u001b[39;00m view, view\u001b[38;5;241m.\u001b[39mcast(\u001b[38;5;124m\"\u001b[39m\u001b[38;5;124mB\u001b[39m\u001b[38;5;124m\"\u001b[39m) \u001b[38;5;28;01mas\u001b[39;00m byte_view:\n\u001b[1;32m---> 68\u001b[0m         data \u001b[38;5;241m=\u001b[39m \u001b[38;5;28;43mself\u001b[39;49m\u001b[38;5;241;43m.\u001b[39;49m\u001b[43mread\u001b[49m\u001b[43m(\u001b[49m\u001b[38;5;28;43mlen\u001b[39;49m\u001b[43m(\u001b[49m\u001b[43mbyte_view\u001b[49m\u001b[43m)\u001b[49m\u001b[43m)\u001b[49m\n\u001b[0;32m     69\u001b[0m         byte_view[:\u001b[38;5;28mlen\u001b[39m(data)] \u001b[38;5;241m=\u001b[39m data\n\u001b[0;32m     70\u001b[0m     \u001b[38;5;28;01mreturn\u001b[39;00m \u001b[38;5;28mlen\u001b[39m(data)\n",
      "File \u001b[1;32m~\\miniconda3\\envs\\tf2.6\\lib\\gzip.py:495\u001b[0m, in \u001b[0;36m_GzipReader.read\u001b[1;34m(self, size)\u001b[0m\n\u001b[0;32m    492\u001b[0m \u001b[38;5;66;03m# Read a chunk of data from the file\u001b[39;00m\n\u001b[0;32m    493\u001b[0m buf \u001b[38;5;241m=\u001b[39m \u001b[38;5;28mself\u001b[39m\u001b[38;5;241m.\u001b[39m_fp\u001b[38;5;241m.\u001b[39mread(io\u001b[38;5;241m.\u001b[39mDEFAULT_BUFFER_SIZE)\n\u001b[1;32m--> 495\u001b[0m uncompress \u001b[38;5;241m=\u001b[39m \u001b[38;5;28;43mself\u001b[39;49m\u001b[38;5;241;43m.\u001b[39;49m\u001b[43m_decompressor\u001b[49m\u001b[38;5;241;43m.\u001b[39;49m\u001b[43mdecompress\u001b[49m\u001b[43m(\u001b[49m\u001b[43mbuf\u001b[49m\u001b[43m,\u001b[49m\u001b[43m \u001b[49m\u001b[43msize\u001b[49m\u001b[43m)\u001b[49m\n\u001b[0;32m    496\u001b[0m \u001b[38;5;28;01mif\u001b[39;00m \u001b[38;5;28mself\u001b[39m\u001b[38;5;241m.\u001b[39m_decompressor\u001b[38;5;241m.\u001b[39munconsumed_tail \u001b[38;5;241m!=\u001b[39m \u001b[38;5;124mb\u001b[39m\u001b[38;5;124m\"\u001b[39m\u001b[38;5;124m\"\u001b[39m:\n\u001b[0;32m    497\u001b[0m     \u001b[38;5;28mself\u001b[39m\u001b[38;5;241m.\u001b[39m_fp\u001b[38;5;241m.\u001b[39mprepend(\u001b[38;5;28mself\u001b[39m\u001b[38;5;241m.\u001b[39m_decompressor\u001b[38;5;241m.\u001b[39munconsumed_tail)\n",
      "\u001b[1;31mKeyboardInterrupt\u001b[0m: "
     ]
    }
   ],
   "source": [
    "def parse(path):\n",
    "    g = gzip.open(path, 'rb')\n",
    "    for l in g:\n",
    "        yield json.loads(l)\n",
    "\n",
    "def getDF(path):\n",
    "    i = 0\n",
    "    df = {}\n",
    "    for d in parse(path):\n",
    "        df[i] = d\n",
    "        i += 1\n",
    "    return pd.DataFrame.from_dict(df, orient='index')\n",
    "\n",
    "df = getDF('Tools_and_Home_Improvement_5.json.gz')"
   ]
  },
  {
   "cell_type": "code",
   "execution_count": null,
   "id": "2153b152",
   "metadata": {},
   "outputs": [],
   "source": [
    "df.head()"
   ]
  },
  {
   "cell_type": "code",
   "execution_count": 72,
   "id": "cff3a631",
   "metadata": {},
   "outputs": [],
   "source": [
    "def extract_format(style_dict):\n",
    "    if pd.notna(style_dict) and 'Format:' in style_dict:\n",
    "        return style_dict['Format:']\n",
    "    return None\n",
    "\n",
    "df['style'] = df['style'].apply(extract_format)"
   ]
  },
  {
   "cell_type": "code",
   "execution_count": 73,
   "id": "829e5a5a",
   "metadata": {},
   "outputs": [
    {
     "data": {
      "text/plain": [
       "array([None, ' Kitchen', ' Electronics', ' Tools & Home Improvement',\n",
       "       ' Misc. Supplies', ' Home', ' Paperback', ' Tools & Hardware',\n",
       "       ' Accessory', ' Misc.'], dtype=object)"
      ]
     },
     "execution_count": 73,
     "metadata": {},
     "output_type": "execute_result"
    }
   ],
   "source": [
    "df['style'].unique()"
   ]
  },
  {
   "cell_type": "code",
   "execution_count": 74,
   "id": "cfc6ca87",
   "metadata": {},
   "outputs": [],
   "source": [
    "df = df.drop('image', axis=1)"
   ]
  },
  {
   "cell_type": "code",
   "execution_count": 75,
   "id": "8e458fdb",
   "metadata": {},
   "outputs": [],
   "source": [
    "none_counts = df.isna().sum()"
   ]
  },
  {
   "cell_type": "code",
   "execution_count": 76,
   "id": "41e01f1b",
   "metadata": {},
   "outputs": [
    {
     "data": {
      "text/plain": [
       "overall                 0\n",
       "verified                0\n",
       "reviewTime              0\n",
       "reviewerID              0\n",
       "asin                    0\n",
       "style             2064635\n",
       "reviewerName          149\n",
       "reviewText            522\n",
       "summary               279\n",
       "unixReviewTime          0\n",
       "vote              1781076\n",
       "dtype: int64"
      ]
     },
     "execution_count": 76,
     "metadata": {},
     "output_type": "execute_result"
    }
   ],
   "source": [
    "none_counts"
   ]
  },
  {
   "cell_type": "code",
   "execution_count": 77,
   "id": "eda5d781",
   "metadata": {},
   "outputs": [],
   "source": [
    "df = df.dropna()"
   ]
  },
  {
   "cell_type": "code",
   "execution_count": 78,
   "id": "e093b9b0",
   "metadata": {},
   "outputs": [
    {
     "data": {
      "text/plain": [
       "array([' Electronics', ' Tools & Home Improvement', ' Paperback',\n",
       "       ' Kitchen', ' Misc. Supplies', ' Home', ' Tools & Hardware',\n",
       "       ' Accessory', ' Misc.'], dtype=object)"
      ]
     },
     "execution_count": 78,
     "metadata": {},
     "output_type": "execute_result"
    }
   ],
   "source": [
    "df['style'].unique()"
   ]
  },
  {
   "cell_type": "code",
   "execution_count": null,
   "id": "6813853f",
   "metadata": {},
   "outputs": [],
   "source": []
  },
  {
   "cell_type": "code",
   "execution_count": 79,
   "id": "c6736b76",
   "metadata": {},
   "outputs": [
    {
     "name": "stderr",
     "output_type": "stream",
     "text": [
      "C:\\Users\\18589\\AppData\\Local\\Temp\\ipykernel_21268\\3091020896.py:2: DtypeWarning: Columns (11) have mixed types. Specify dtype option on import or set low_memory=False.\n",
      "  df2= pd.read_csv(file_path)\n"
     ]
    }
   ],
   "source": [
    "file_path = 'cleaned_review.csv'\n",
    "df2= pd.read_csv(file_path)"
   ]
  },
  {
   "cell_type": "code",
   "execution_count": 80,
   "id": "cff7170c",
   "metadata": {},
   "outputs": [],
   "source": [
    "combined_df = pd.concat([df, df2], ignore_index=True)"
   ]
  },
  {
   "cell_type": "code",
   "execution_count": 81,
   "id": "890eb4f0",
   "metadata": {},
   "outputs": [],
   "source": [
    "combined_df.to_csv('cleaned_review.csv')"
   ]
  },
  {
   "cell_type": "code",
   "execution_count": 82,
   "id": "f5761757",
   "metadata": {},
   "outputs": [
    {
     "data": {
      "text/html": [
       "<div>\n",
       "<style scoped>\n",
       "    .dataframe tbody tr th:only-of-type {\n",
       "        vertical-align: middle;\n",
       "    }\n",
       "\n",
       "    .dataframe tbody tr th {\n",
       "        vertical-align: top;\n",
       "    }\n",
       "\n",
       "    .dataframe thead th {\n",
       "        text-align: right;\n",
       "    }\n",
       "</style>\n",
       "<table border=\"1\" class=\"dataframe\">\n",
       "  <thead>\n",
       "    <tr style=\"text-align: right;\">\n",
       "      <th></th>\n",
       "      <th>overall</th>\n",
       "      <th>verified</th>\n",
       "      <th>reviewTime</th>\n",
       "      <th>reviewerID</th>\n",
       "      <th>asin</th>\n",
       "      <th>style</th>\n",
       "      <th>reviewerName</th>\n",
       "      <th>reviewText</th>\n",
       "      <th>summary</th>\n",
       "      <th>unixReviewTime</th>\n",
       "      <th>vote</th>\n",
       "      <th>Unnamed: 0.4</th>\n",
       "      <th>Unnamed: 0.3</th>\n",
       "      <th>Unnamed: 0.2</th>\n",
       "      <th>Unnamed: 0.1</th>\n",
       "      <th>Unnamed: 0</th>\n",
       "    </tr>\n",
       "  </thead>\n",
       "  <tbody>\n",
       "    <tr>\n",
       "      <th>0</th>\n",
       "      <td>5.0</td>\n",
       "      <td>True</td>\n",
       "      <td>08 9, 2016</td>\n",
       "      <td>ARVGPB7UVLOJW</td>\n",
       "      <td>193362275X</td>\n",
       "      <td>Electronics</td>\n",
       "      <td>Dove</td>\n",
       "      <td>Got this for my husband as a birthday gift, an...</td>\n",
       "      <td>He loves it</td>\n",
       "      <td>1470700800</td>\n",
       "      <td>2</td>\n",
       "      <td>NaN</td>\n",
       "      <td>NaN</td>\n",
       "      <td>NaN</td>\n",
       "      <td>NaN</td>\n",
       "      <td>NaN</td>\n",
       "    </tr>\n",
       "    <tr>\n",
       "      <th>1</th>\n",
       "      <td>5.0</td>\n",
       "      <td>True</td>\n",
       "      <td>08 6, 2016</td>\n",
       "      <td>A291CXNBUMOJRL</td>\n",
       "      <td>193362275X</td>\n",
       "      <td>Electronics</td>\n",
       "      <td>EveryMom</td>\n",
       "      <td>Bought this for my daughter to take to camp an...</td>\n",
       "      <td>Best Book Light I've Had in 25 years!</td>\n",
       "      <td>1470441600</td>\n",
       "      <td>2</td>\n",
       "      <td>NaN</td>\n",
       "      <td>NaN</td>\n",
       "      <td>NaN</td>\n",
       "      <td>NaN</td>\n",
       "      <td>NaN</td>\n",
       "    </tr>\n",
       "    <tr>\n",
       "      <th>2</th>\n",
       "      <td>3.0</td>\n",
       "      <td>True</td>\n",
       "      <td>07 1, 2016</td>\n",
       "      <td>AZ6TCHE726IVP</td>\n",
       "      <td>193362275X</td>\n",
       "      <td>Tools &amp; Home Improvement</td>\n",
       "      <td>alex</td>\n",
       "      <td>pros\\nthe flexible thingy is really good, and ...</td>\n",
       "      <td>Ok</td>\n",
       "      <td>1467331200</td>\n",
       "      <td>2</td>\n",
       "      <td>NaN</td>\n",
       "      <td>NaN</td>\n",
       "      <td>NaN</td>\n",
       "      <td>NaN</td>\n",
       "      <td>NaN</td>\n",
       "    </tr>\n",
       "    <tr>\n",
       "      <th>3</th>\n",
       "      <td>5.0</td>\n",
       "      <td>True</td>\n",
       "      <td>03 4, 2016</td>\n",
       "      <td>A3JGIPEXOZ0ZY6</td>\n",
       "      <td>193362275X</td>\n",
       "      <td>Tools &amp; Home Improvement</td>\n",
       "      <td>vanilllacoke</td>\n",
       "      <td>I've been using this for nearly 2 years for pa...</td>\n",
       "      <td>many fantastic points</td>\n",
       "      <td>1457049600</td>\n",
       "      <td>2</td>\n",
       "      <td>NaN</td>\n",
       "      <td>NaN</td>\n",
       "      <td>NaN</td>\n",
       "      <td>NaN</td>\n",
       "      <td>NaN</td>\n",
       "    </tr>\n",
       "    <tr>\n",
       "      <th>4</th>\n",
       "      <td>2.0</td>\n",
       "      <td>True</td>\n",
       "      <td>08 10, 2013</td>\n",
       "      <td>A30IA5U6ID1QRJ</td>\n",
       "      <td>1933622741</td>\n",
       "      <td>Paperback</td>\n",
       "      <td>Walden</td>\n",
       "      <td>Okay at first, for about a month, then began t...</td>\n",
       "      <td>little book light</td>\n",
       "      <td>1376092800</td>\n",
       "      <td>3</td>\n",
       "      <td>NaN</td>\n",
       "      <td>NaN</td>\n",
       "      <td>NaN</td>\n",
       "      <td>NaN</td>\n",
       "      <td>NaN</td>\n",
       "    </tr>\n",
       "    <tr>\n",
       "      <th>...</th>\n",
       "      <td>...</td>\n",
       "      <td>...</td>\n",
       "      <td>...</td>\n",
       "      <td>...</td>\n",
       "      <td>...</td>\n",
       "      <td>...</td>\n",
       "      <td>...</td>\n",
       "      <td>...</td>\n",
       "      <td>...</td>\n",
       "      <td>...</td>\n",
       "      <td>...</td>\n",
       "      <td>...</td>\n",
       "      <td>...</td>\n",
       "      <td>...</td>\n",
       "      <td>...</td>\n",
       "      <td>...</td>\n",
       "    </tr>\n",
       "    <tr>\n",
       "      <th>623880</th>\n",
       "      <td>5.0</td>\n",
       "      <td>True</td>\n",
       "      <td>04 3, 2013</td>\n",
       "      <td>AJXV6T2EMQHF0</td>\n",
       "      <td>B004ZBLK0E</td>\n",
       "      <td>Misc.</td>\n",
       "      <td>Shannon H.</td>\n",
       "      <td>I pretty much love all of the Smash Book line,...</td>\n",
       "      <td>&lt;3</td>\n",
       "      <td>1364947200</td>\n",
       "      <td>2</td>\n",
       "      <td>623178.0</td>\n",
       "      <td>2891.0</td>\n",
       "      <td>1769.0</td>\n",
       "      <td>790.0</td>\n",
       "      <td>443370.0</td>\n",
       "    </tr>\n",
       "    <tr>\n",
       "      <th>623881</th>\n",
       "      <td>5.0</td>\n",
       "      <td>True</td>\n",
       "      <td>03 25, 2015</td>\n",
       "      <td>A19O4K9GZ0RVPH</td>\n",
       "      <td>B0060S43TU</td>\n",
       "      <td>Misc.</td>\n",
       "      <td>Ella</td>\n",
       "      <td>Loved this as well as all other smash things!</td>\n",
       "      <td>Love</td>\n",
       "      <td>1427241600</td>\n",
       "      <td>2</td>\n",
       "      <td>623179.0</td>\n",
       "      <td>2892.0</td>\n",
       "      <td>1770.0</td>\n",
       "      <td>791.0</td>\n",
       "      <td>448229.0</td>\n",
       "    </tr>\n",
       "    <tr>\n",
       "      <th>623882</th>\n",
       "      <td>4.0</td>\n",
       "      <td>True</td>\n",
       "      <td>06 25, 2014</td>\n",
       "      <td>A13LB0Z78L6DSN</td>\n",
       "      <td>B0060S43TU</td>\n",
       "      <td>Misc.</td>\n",
       "      <td>Baker Mom</td>\n",
       "      <td>I purchased the Smash Book (Doodle Red) becaus...</td>\n",
       "      <td>Fun!</td>\n",
       "      <td>1403654400</td>\n",
       "      <td>2</td>\n",
       "      <td>623180.0</td>\n",
       "      <td>2893.0</td>\n",
       "      <td>1771.0</td>\n",
       "      <td>792.0</td>\n",
       "      <td>448231.0</td>\n",
       "    </tr>\n",
       "    <tr>\n",
       "      <th>623883</th>\n",
       "      <td>5.0</td>\n",
       "      <td>True</td>\n",
       "      <td>09 17, 2013</td>\n",
       "      <td>A3JGZLE2L21LWA</td>\n",
       "      <td>B0060S43TU</td>\n",
       "      <td>Misc.</td>\n",
       "      <td>debbi berg</td>\n",
       "      <td>This is a really cute page of different top 10...</td>\n",
       "      <td>SMASH PAD TOP10</td>\n",
       "      <td>1379376000</td>\n",
       "      <td>3</td>\n",
       "      <td>623181.0</td>\n",
       "      <td>2894.0</td>\n",
       "      <td>1772.0</td>\n",
       "      <td>793.0</td>\n",
       "      <td>448232.0</td>\n",
       "    </tr>\n",
       "    <tr>\n",
       "      <th>623884</th>\n",
       "      <td>5.0</td>\n",
       "      <td>True</td>\n",
       "      <td>07 29, 2017</td>\n",
       "      <td>A1U74JHTSHE13M</td>\n",
       "      <td>B0165TR2CI</td>\n",
       "      <td>Office Product</td>\n",
       "      <td>Robin R</td>\n",
       "      <td>After using the cheap watercolor set I'd gotte...</td>\n",
       "      <td>Nice set, no chalkiness to the colors</td>\n",
       "      <td>1501286400</td>\n",
       "      <td>2</td>\n",
       "      <td>623182.0</td>\n",
       "      <td>2895.0</td>\n",
       "      <td>1773.0</td>\n",
       "      <td>794.0</td>\n",
       "      <td>488619.0</td>\n",
       "    </tr>\n",
       "  </tbody>\n",
       "</table>\n",
       "<p>623885 rows × 16 columns</p>\n",
       "</div>"
      ],
      "text/plain": [
       "        overall  verified   reviewTime      reviewerID        asin  \\\n",
       "0           5.0      True   08 9, 2016   ARVGPB7UVLOJW  193362275X   \n",
       "1           5.0      True   08 6, 2016  A291CXNBUMOJRL  193362275X   \n",
       "2           3.0      True   07 1, 2016   AZ6TCHE726IVP  193362275X   \n",
       "3           5.0      True   03 4, 2016  A3JGIPEXOZ0ZY6  193362275X   \n",
       "4           2.0      True  08 10, 2013  A30IA5U6ID1QRJ  1933622741   \n",
       "...         ...       ...          ...             ...         ...   \n",
       "623880      5.0      True   04 3, 2013   AJXV6T2EMQHF0  B004ZBLK0E   \n",
       "623881      5.0      True  03 25, 2015  A19O4K9GZ0RVPH  B0060S43TU   \n",
       "623882      4.0      True  06 25, 2014  A13LB0Z78L6DSN  B0060S43TU   \n",
       "623883      5.0      True  09 17, 2013  A3JGZLE2L21LWA  B0060S43TU   \n",
       "623884      5.0      True  07 29, 2017  A1U74JHTSHE13M  B0165TR2CI   \n",
       "\n",
       "                            style  reviewerName  \\\n",
       "0                     Electronics          Dove   \n",
       "1                     Electronics      EveryMom   \n",
       "2        Tools & Home Improvement          alex   \n",
       "3        Tools & Home Improvement  vanilllacoke   \n",
       "4                       Paperback        Walden   \n",
       "...                           ...           ...   \n",
       "623880                      Misc.    Shannon H.   \n",
       "623881                      Misc.          Ella   \n",
       "623882                      Misc.     Baker Mom   \n",
       "623883                      Misc.    debbi berg   \n",
       "623884             Office Product       Robin R   \n",
       "\n",
       "                                               reviewText  \\\n",
       "0       Got this for my husband as a birthday gift, an...   \n",
       "1       Bought this for my daughter to take to camp an...   \n",
       "2       pros\\nthe flexible thingy is really good, and ...   \n",
       "3       I've been using this for nearly 2 years for pa...   \n",
       "4       Okay at first, for about a month, then began t...   \n",
       "...                                                   ...   \n",
       "623880  I pretty much love all of the Smash Book line,...   \n",
       "623881      Loved this as well as all other smash things!   \n",
       "623882  I purchased the Smash Book (Doodle Red) becaus...   \n",
       "623883  This is a really cute page of different top 10...   \n",
       "623884  After using the cheap watercolor set I'd gotte...   \n",
       "\n",
       "                                      summary  unixReviewTime vote  \\\n",
       "0                                 He loves it      1470700800    2   \n",
       "1       Best Book Light I've Had in 25 years!      1470441600    2   \n",
       "2                                          Ok      1467331200    2   \n",
       "3                       many fantastic points      1457049600    2   \n",
       "4                           little book light      1376092800    3   \n",
       "...                                       ...             ...  ...   \n",
       "623880                                     <3      1364947200    2   \n",
       "623881                                   Love      1427241600    2   \n",
       "623882                                   Fun!      1403654400    2   \n",
       "623883                        SMASH PAD TOP10      1379376000    3   \n",
       "623884  Nice set, no chalkiness to the colors      1501286400    2   \n",
       "\n",
       "        Unnamed: 0.4  Unnamed: 0.3  Unnamed: 0.2  Unnamed: 0.1  Unnamed: 0  \n",
       "0                NaN           NaN           NaN           NaN         NaN  \n",
       "1                NaN           NaN           NaN           NaN         NaN  \n",
       "2                NaN           NaN           NaN           NaN         NaN  \n",
       "3                NaN           NaN           NaN           NaN         NaN  \n",
       "4                NaN           NaN           NaN           NaN         NaN  \n",
       "...              ...           ...           ...           ...         ...  \n",
       "623880      623178.0        2891.0        1769.0         790.0    443370.0  \n",
       "623881      623179.0        2892.0        1770.0         791.0    448229.0  \n",
       "623882      623180.0        2893.0        1771.0         792.0    448231.0  \n",
       "623883      623181.0        2894.0        1772.0         793.0    448232.0  \n",
       "623884      623182.0        2895.0        1773.0         794.0    488619.0  \n",
       "\n",
       "[623885 rows x 16 columns]"
      ]
     },
     "execution_count": 82,
     "metadata": {},
     "output_type": "execute_result"
    }
   ],
   "source": [
    "combined_df"
   ]
  },
  {
   "cell_type": "code",
   "execution_count": 3,
   "id": "4e95afe1",
   "metadata": {},
   "outputs": [
    {
     "name": "stderr",
     "output_type": "stream",
     "text": [
      "C:\\Users\\18589\\AppData\\Local\\Temp\\ipykernel_6428\\2632622030.py:2: DtypeWarning: Columns (11) have mixed types. Specify dtype option on import or set low_memory=False.\n",
      "  combined_df= pd.read_csv(file_path)\n"
     ]
    }
   ],
   "source": [
    "file_path = 'cleaned_review.csv'\n",
    "combined_df= pd.read_csv(file_path)"
   ]
  },
  {
   "cell_type": "code",
   "execution_count": 4,
   "id": "6865e770",
   "metadata": {},
   "outputs": [],
   "source": [
    "combined_df = combined_df.loc[:, ~combined_df.columns.str.contains('^Unnamed')]"
   ]
  },
  {
   "cell_type": "code",
   "execution_count": 5,
   "id": "01dc1491",
   "metadata": {},
   "outputs": [
    {
     "data": {
      "text/html": [
       "<div>\n",
       "<style scoped>\n",
       "    .dataframe tbody tr th:only-of-type {\n",
       "        vertical-align: middle;\n",
       "    }\n",
       "\n",
       "    .dataframe tbody tr th {\n",
       "        vertical-align: top;\n",
       "    }\n",
       "\n",
       "    .dataframe thead th {\n",
       "        text-align: right;\n",
       "    }\n",
       "</style>\n",
       "<table border=\"1\" class=\"dataframe\">\n",
       "  <thead>\n",
       "    <tr style=\"text-align: right;\">\n",
       "      <th></th>\n",
       "      <th>overall</th>\n",
       "      <th>verified</th>\n",
       "      <th>reviewTime</th>\n",
       "      <th>reviewerID</th>\n",
       "      <th>asin</th>\n",
       "      <th>style</th>\n",
       "      <th>reviewerName</th>\n",
       "      <th>reviewText</th>\n",
       "      <th>summary</th>\n",
       "      <th>unixReviewTime</th>\n",
       "      <th>vote</th>\n",
       "    </tr>\n",
       "  </thead>\n",
       "  <tbody>\n",
       "    <tr>\n",
       "      <th>0</th>\n",
       "      <td>5.0</td>\n",
       "      <td>True</td>\n",
       "      <td>08 9, 2016</td>\n",
       "      <td>ARVGPB7UVLOJW</td>\n",
       "      <td>193362275X</td>\n",
       "      <td>Electronics</td>\n",
       "      <td>Dove</td>\n",
       "      <td>Got this for my husband as a birthday gift, an...</td>\n",
       "      <td>He loves it</td>\n",
       "      <td>1470700800</td>\n",
       "      <td>2</td>\n",
       "    </tr>\n",
       "    <tr>\n",
       "      <th>1</th>\n",
       "      <td>5.0</td>\n",
       "      <td>True</td>\n",
       "      <td>08 6, 2016</td>\n",
       "      <td>A291CXNBUMOJRL</td>\n",
       "      <td>193362275X</td>\n",
       "      <td>Electronics</td>\n",
       "      <td>EveryMom</td>\n",
       "      <td>Bought this for my daughter to take to camp an...</td>\n",
       "      <td>Best Book Light I've Had in 25 years!</td>\n",
       "      <td>1470441600</td>\n",
       "      <td>2</td>\n",
       "    </tr>\n",
       "    <tr>\n",
       "      <th>2</th>\n",
       "      <td>3.0</td>\n",
       "      <td>True</td>\n",
       "      <td>07 1, 2016</td>\n",
       "      <td>AZ6TCHE726IVP</td>\n",
       "      <td>193362275X</td>\n",
       "      <td>Tools &amp; Home Improvement</td>\n",
       "      <td>alex</td>\n",
       "      <td>pros\\nthe flexible thingy is really good, and ...</td>\n",
       "      <td>Ok</td>\n",
       "      <td>1467331200</td>\n",
       "      <td>2</td>\n",
       "    </tr>\n",
       "    <tr>\n",
       "      <th>3</th>\n",
       "      <td>5.0</td>\n",
       "      <td>True</td>\n",
       "      <td>03 4, 2016</td>\n",
       "      <td>A3JGIPEXOZ0ZY6</td>\n",
       "      <td>193362275X</td>\n",
       "      <td>Tools &amp; Home Improvement</td>\n",
       "      <td>vanilllacoke</td>\n",
       "      <td>I've been using this for nearly 2 years for pa...</td>\n",
       "      <td>many fantastic points</td>\n",
       "      <td>1457049600</td>\n",
       "      <td>2</td>\n",
       "    </tr>\n",
       "    <tr>\n",
       "      <th>4</th>\n",
       "      <td>2.0</td>\n",
       "      <td>True</td>\n",
       "      <td>08 10, 2013</td>\n",
       "      <td>A30IA5U6ID1QRJ</td>\n",
       "      <td>1933622741</td>\n",
       "      <td>Paperback</td>\n",
       "      <td>Walden</td>\n",
       "      <td>Okay at first, for about a month, then began t...</td>\n",
       "      <td>little book light</td>\n",
       "      <td>1376092800</td>\n",
       "      <td>3</td>\n",
       "    </tr>\n",
       "  </tbody>\n",
       "</table>\n",
       "</div>"
      ],
      "text/plain": [
       "   overall  verified   reviewTime      reviewerID        asin  \\\n",
       "0      5.0      True   08 9, 2016   ARVGPB7UVLOJW  193362275X   \n",
       "1      5.0      True   08 6, 2016  A291CXNBUMOJRL  193362275X   \n",
       "2      3.0      True   07 1, 2016   AZ6TCHE726IVP  193362275X   \n",
       "3      5.0      True   03 4, 2016  A3JGIPEXOZ0ZY6  193362275X   \n",
       "4      2.0      True  08 10, 2013  A30IA5U6ID1QRJ  1933622741   \n",
       "\n",
       "                       style  reviewerName  \\\n",
       "0                Electronics          Dove   \n",
       "1                Electronics      EveryMom   \n",
       "2   Tools & Home Improvement          alex   \n",
       "3   Tools & Home Improvement  vanilllacoke   \n",
       "4                  Paperback        Walden   \n",
       "\n",
       "                                          reviewText  \\\n",
       "0  Got this for my husband as a birthday gift, an...   \n",
       "1  Bought this for my daughter to take to camp an...   \n",
       "2  pros\\nthe flexible thingy is really good, and ...   \n",
       "3  I've been using this for nearly 2 years for pa...   \n",
       "4  Okay at first, for about a month, then began t...   \n",
       "\n",
       "                                 summary  unixReviewTime vote  \n",
       "0                            He loves it      1470700800    2  \n",
       "1  Best Book Light I've Had in 25 years!      1470441600    2  \n",
       "2                                     Ok      1467331200    2  \n",
       "3                  many fantastic points      1457049600    2  \n",
       "4                      little book light      1376092800    3  "
      ]
     },
     "execution_count": 5,
     "metadata": {},
     "output_type": "execute_result"
    }
   ],
   "source": [
    "combined_df.head()"
   ]
  },
  {
   "cell_type": "code",
   "execution_count": 6,
   "id": "5316a94d",
   "metadata": {},
   "outputs": [],
   "source": [
    "df_encoded = pd.get_dummies(combined_df, columns=['style'])"
   ]
  },
  {
   "cell_type": "code",
   "execution_count": 7,
   "id": "aee2ec18",
   "metadata": {},
   "outputs": [
    {
     "data": {
      "text/plain": [
       "Index(['overall', 'verified', 'reviewTime', 'reviewerID', 'asin',\n",
       "       'reviewerName', 'reviewText', 'summary', 'unixReviewTime', 'vote',\n",
       "       'style_ Accessory', 'style_ Amazon Instant Video',\n",
       "       'style_ Amazon Video', 'style_ Apparel', 'style_ Audio CD',\n",
       "       'style_ Baby Product', 'style_ Blu-ray', 'style_ CD-ROM',\n",
       "       'style_ Computer Game', 'style_ DVD', 'style_ DVD Audio',\n",
       "       'style_ DVD-R', 'style_ DVD-ROM', 'style_ Diary', 'style_ Electronics',\n",
       "       'style_ Grocery', 'style_ HD DVD', 'style_ Hardcover',\n",
       "       'style_ Health and Beauty', 'style_ Home', 'style_ Housewares',\n",
       "       'style_ Interactive DVD', 'style_ Kindle Edition', 'style_ Kitchen',\n",
       "       'style_ Laser Disc', 'style_ Loose Leaf', 'style_ MP3 Music',\n",
       "       'style_ Mass Market Paperback', 'style_ Misc.', 'style_ Misc. Supplies',\n",
       "       'style_ Office Product', 'style_ Paperback', 'style_ Prime Video',\n",
       "       'style_ Product Bundle', 'style_ Shoes', 'style_ Spiral-bound',\n",
       "       'style_ Sports', 'style_ Sports Apparel', 'style_ Staple Bound',\n",
       "       'style_ Target', 'style_ Theatrical Release', 'style_ Tools & Hardware',\n",
       "       'style_ Tools & Home Improvement', 'style_ Toy', 'style_ UMD for PSP',\n",
       "       'style_ Unknown Binding', 'style_ VHS Tape', 'style_ Video Game',\n",
       "       'style_ Videotape', 'style_ Vinyl', 'style_ Wireless Phone Accessory'],\n",
       "      dtype='object')"
      ]
     },
     "execution_count": 7,
     "metadata": {},
     "output_type": "execute_result"
    }
   ],
   "source": [
    "df_encoded.columns"
   ]
  },
  {
   "cell_type": "code",
   "execution_count": 49,
   "id": "d5c467ce",
   "metadata": {},
   "outputs": [],
   "source": [
    "df_encoded.to_csv('final_data.csv')"
   ]
  },
  {
   "cell_type": "code",
   "execution_count": null,
   "id": "eda6873b",
   "metadata": {},
   "outputs": [],
   "source": []
  },
  {
   "cell_type": "code",
   "execution_count": 8,
   "id": "3eaaefb4",
   "metadata": {},
   "outputs": [],
   "source": [
    "from sklearn.model_selection import train_test_split\n",
    "from sklearn.linear_model import LinearRegression\n",
    "from sklearn.metrics import mean_squared_error, r2_score\n",
    "from sklearn.preprocessing import LabelEncoder"
   ]
  },
  {
   "cell_type": "code",
   "execution_count": null,
   "id": "a1d1dd59",
   "metadata": {},
   "outputs": [],
   "source": []
  },
  {
   "cell_type": "code",
   "execution_count": null,
   "id": "bea157ec",
   "metadata": {},
   "outputs": [],
   "source": []
  },
  {
   "cell_type": "code",
   "execution_count": 9,
   "id": "8dc18080",
   "metadata": {},
   "outputs": [],
   "source": [
    "df_encoded['verified'] = df_encoded['verified'].astype(int)\n",
    "df_encoded['vote'] = df_encoded['vote'].replace(',', '', regex=True).fillna(0).astype(int)\n"
   ]
  },
  {
   "cell_type": "code",
   "execution_count": 10,
   "id": "c4d96a38",
   "metadata": {},
   "outputs": [],
   "source": [
    "X_lr = df_encoded.drop(columns=['reviewTime','reviewerID','asin','reviewerName', 'reviewText', 'summary','overall'])"
   ]
  },
  {
   "cell_type": "code",
   "execution_count": 11,
   "id": "60c9defc",
   "metadata": {},
   "outputs": [],
   "source": [
    "y = df_encoded['overall']"
   ]
  },
  {
   "cell_type": "code",
   "execution_count": 12,
   "id": "3c30d140",
   "metadata": {},
   "outputs": [
    {
     "data": {
      "text/html": [
       "<div>\n",
       "<style scoped>\n",
       "    .dataframe tbody tr th:only-of-type {\n",
       "        vertical-align: middle;\n",
       "    }\n",
       "\n",
       "    .dataframe tbody tr th {\n",
       "        vertical-align: top;\n",
       "    }\n",
       "\n",
       "    .dataframe thead th {\n",
       "        text-align: right;\n",
       "    }\n",
       "</style>\n",
       "<table border=\"1\" class=\"dataframe\">\n",
       "  <thead>\n",
       "    <tr style=\"text-align: right;\">\n",
       "      <th></th>\n",
       "      <th>verified</th>\n",
       "      <th>unixReviewTime</th>\n",
       "      <th>vote</th>\n",
       "      <th>style_ Accessory</th>\n",
       "      <th>style_ Amazon Instant Video</th>\n",
       "      <th>style_ Amazon Video</th>\n",
       "      <th>style_ Apparel</th>\n",
       "      <th>style_ Audio CD</th>\n",
       "      <th>style_ Baby Product</th>\n",
       "      <th>style_ Blu-ray</th>\n",
       "      <th>...</th>\n",
       "      <th>style_ Tools &amp; Hardware</th>\n",
       "      <th>style_ Tools &amp; Home Improvement</th>\n",
       "      <th>style_ Toy</th>\n",
       "      <th>style_ UMD for PSP</th>\n",
       "      <th>style_ Unknown Binding</th>\n",
       "      <th>style_ VHS Tape</th>\n",
       "      <th>style_ Video Game</th>\n",
       "      <th>style_ Videotape</th>\n",
       "      <th>style_ Vinyl</th>\n",
       "      <th>style_ Wireless Phone Accessory</th>\n",
       "    </tr>\n",
       "  </thead>\n",
       "  <tbody>\n",
       "    <tr>\n",
       "      <th>0</th>\n",
       "      <td>1</td>\n",
       "      <td>1470700800</td>\n",
       "      <td>2</td>\n",
       "      <td>0</td>\n",
       "      <td>0</td>\n",
       "      <td>0</td>\n",
       "      <td>0</td>\n",
       "      <td>0</td>\n",
       "      <td>0</td>\n",
       "      <td>0</td>\n",
       "      <td>...</td>\n",
       "      <td>0</td>\n",
       "      <td>0</td>\n",
       "      <td>0</td>\n",
       "      <td>0</td>\n",
       "      <td>0</td>\n",
       "      <td>0</td>\n",
       "      <td>0</td>\n",
       "      <td>0</td>\n",
       "      <td>0</td>\n",
       "      <td>0</td>\n",
       "    </tr>\n",
       "    <tr>\n",
       "      <th>1</th>\n",
       "      <td>1</td>\n",
       "      <td>1470441600</td>\n",
       "      <td>2</td>\n",
       "      <td>0</td>\n",
       "      <td>0</td>\n",
       "      <td>0</td>\n",
       "      <td>0</td>\n",
       "      <td>0</td>\n",
       "      <td>0</td>\n",
       "      <td>0</td>\n",
       "      <td>...</td>\n",
       "      <td>0</td>\n",
       "      <td>0</td>\n",
       "      <td>0</td>\n",
       "      <td>0</td>\n",
       "      <td>0</td>\n",
       "      <td>0</td>\n",
       "      <td>0</td>\n",
       "      <td>0</td>\n",
       "      <td>0</td>\n",
       "      <td>0</td>\n",
       "    </tr>\n",
       "    <tr>\n",
       "      <th>2</th>\n",
       "      <td>1</td>\n",
       "      <td>1467331200</td>\n",
       "      <td>2</td>\n",
       "      <td>0</td>\n",
       "      <td>0</td>\n",
       "      <td>0</td>\n",
       "      <td>0</td>\n",
       "      <td>0</td>\n",
       "      <td>0</td>\n",
       "      <td>0</td>\n",
       "      <td>...</td>\n",
       "      <td>0</td>\n",
       "      <td>1</td>\n",
       "      <td>0</td>\n",
       "      <td>0</td>\n",
       "      <td>0</td>\n",
       "      <td>0</td>\n",
       "      <td>0</td>\n",
       "      <td>0</td>\n",
       "      <td>0</td>\n",
       "      <td>0</td>\n",
       "    </tr>\n",
       "    <tr>\n",
       "      <th>3</th>\n",
       "      <td>1</td>\n",
       "      <td>1457049600</td>\n",
       "      <td>2</td>\n",
       "      <td>0</td>\n",
       "      <td>0</td>\n",
       "      <td>0</td>\n",
       "      <td>0</td>\n",
       "      <td>0</td>\n",
       "      <td>0</td>\n",
       "      <td>0</td>\n",
       "      <td>...</td>\n",
       "      <td>0</td>\n",
       "      <td>1</td>\n",
       "      <td>0</td>\n",
       "      <td>0</td>\n",
       "      <td>0</td>\n",
       "      <td>0</td>\n",
       "      <td>0</td>\n",
       "      <td>0</td>\n",
       "      <td>0</td>\n",
       "      <td>0</td>\n",
       "    </tr>\n",
       "    <tr>\n",
       "      <th>4</th>\n",
       "      <td>1</td>\n",
       "      <td>1376092800</td>\n",
       "      <td>3</td>\n",
       "      <td>0</td>\n",
       "      <td>0</td>\n",
       "      <td>0</td>\n",
       "      <td>0</td>\n",
       "      <td>0</td>\n",
       "      <td>0</td>\n",
       "      <td>0</td>\n",
       "      <td>...</td>\n",
       "      <td>0</td>\n",
       "      <td>0</td>\n",
       "      <td>0</td>\n",
       "      <td>0</td>\n",
       "      <td>0</td>\n",
       "      <td>0</td>\n",
       "      <td>0</td>\n",
       "      <td>0</td>\n",
       "      <td>0</td>\n",
       "      <td>0</td>\n",
       "    </tr>\n",
       "    <tr>\n",
       "      <th>...</th>\n",
       "      <td>...</td>\n",
       "      <td>...</td>\n",
       "      <td>...</td>\n",
       "      <td>...</td>\n",
       "      <td>...</td>\n",
       "      <td>...</td>\n",
       "      <td>...</td>\n",
       "      <td>...</td>\n",
       "      <td>...</td>\n",
       "      <td>...</td>\n",
       "      <td>...</td>\n",
       "      <td>...</td>\n",
       "      <td>...</td>\n",
       "      <td>...</td>\n",
       "      <td>...</td>\n",
       "      <td>...</td>\n",
       "      <td>...</td>\n",
       "      <td>...</td>\n",
       "      <td>...</td>\n",
       "      <td>...</td>\n",
       "      <td>...</td>\n",
       "    </tr>\n",
       "    <tr>\n",
       "      <th>623880</th>\n",
       "      <td>1</td>\n",
       "      <td>1364947200</td>\n",
       "      <td>2</td>\n",
       "      <td>0</td>\n",
       "      <td>0</td>\n",
       "      <td>0</td>\n",
       "      <td>0</td>\n",
       "      <td>0</td>\n",
       "      <td>0</td>\n",
       "      <td>0</td>\n",
       "      <td>...</td>\n",
       "      <td>0</td>\n",
       "      <td>0</td>\n",
       "      <td>0</td>\n",
       "      <td>0</td>\n",
       "      <td>0</td>\n",
       "      <td>0</td>\n",
       "      <td>0</td>\n",
       "      <td>0</td>\n",
       "      <td>0</td>\n",
       "      <td>0</td>\n",
       "    </tr>\n",
       "    <tr>\n",
       "      <th>623881</th>\n",
       "      <td>1</td>\n",
       "      <td>1427241600</td>\n",
       "      <td>2</td>\n",
       "      <td>0</td>\n",
       "      <td>0</td>\n",
       "      <td>0</td>\n",
       "      <td>0</td>\n",
       "      <td>0</td>\n",
       "      <td>0</td>\n",
       "      <td>0</td>\n",
       "      <td>...</td>\n",
       "      <td>0</td>\n",
       "      <td>0</td>\n",
       "      <td>0</td>\n",
       "      <td>0</td>\n",
       "      <td>0</td>\n",
       "      <td>0</td>\n",
       "      <td>0</td>\n",
       "      <td>0</td>\n",
       "      <td>0</td>\n",
       "      <td>0</td>\n",
       "    </tr>\n",
       "    <tr>\n",
       "      <th>623882</th>\n",
       "      <td>1</td>\n",
       "      <td>1403654400</td>\n",
       "      <td>2</td>\n",
       "      <td>0</td>\n",
       "      <td>0</td>\n",
       "      <td>0</td>\n",
       "      <td>0</td>\n",
       "      <td>0</td>\n",
       "      <td>0</td>\n",
       "      <td>0</td>\n",
       "      <td>...</td>\n",
       "      <td>0</td>\n",
       "      <td>0</td>\n",
       "      <td>0</td>\n",
       "      <td>0</td>\n",
       "      <td>0</td>\n",
       "      <td>0</td>\n",
       "      <td>0</td>\n",
       "      <td>0</td>\n",
       "      <td>0</td>\n",
       "      <td>0</td>\n",
       "    </tr>\n",
       "    <tr>\n",
       "      <th>623883</th>\n",
       "      <td>1</td>\n",
       "      <td>1379376000</td>\n",
       "      <td>3</td>\n",
       "      <td>0</td>\n",
       "      <td>0</td>\n",
       "      <td>0</td>\n",
       "      <td>0</td>\n",
       "      <td>0</td>\n",
       "      <td>0</td>\n",
       "      <td>0</td>\n",
       "      <td>...</td>\n",
       "      <td>0</td>\n",
       "      <td>0</td>\n",
       "      <td>0</td>\n",
       "      <td>0</td>\n",
       "      <td>0</td>\n",
       "      <td>0</td>\n",
       "      <td>0</td>\n",
       "      <td>0</td>\n",
       "      <td>0</td>\n",
       "      <td>0</td>\n",
       "    </tr>\n",
       "    <tr>\n",
       "      <th>623884</th>\n",
       "      <td>1</td>\n",
       "      <td>1501286400</td>\n",
       "      <td>2</td>\n",
       "      <td>0</td>\n",
       "      <td>0</td>\n",
       "      <td>0</td>\n",
       "      <td>0</td>\n",
       "      <td>0</td>\n",
       "      <td>0</td>\n",
       "      <td>0</td>\n",
       "      <td>...</td>\n",
       "      <td>0</td>\n",
       "      <td>0</td>\n",
       "      <td>0</td>\n",
       "      <td>0</td>\n",
       "      <td>0</td>\n",
       "      <td>0</td>\n",
       "      <td>0</td>\n",
       "      <td>0</td>\n",
       "      <td>0</td>\n",
       "      <td>0</td>\n",
       "    </tr>\n",
       "  </tbody>\n",
       "</table>\n",
       "<p>623885 rows × 54 columns</p>\n",
       "</div>"
      ],
      "text/plain": [
       "        verified  unixReviewTime  vote  style_ Accessory  \\\n",
       "0              1      1470700800     2                 0   \n",
       "1              1      1470441600     2                 0   \n",
       "2              1      1467331200     2                 0   \n",
       "3              1      1457049600     2                 0   \n",
       "4              1      1376092800     3                 0   \n",
       "...          ...             ...   ...               ...   \n",
       "623880         1      1364947200     2                 0   \n",
       "623881         1      1427241600     2                 0   \n",
       "623882         1      1403654400     2                 0   \n",
       "623883         1      1379376000     3                 0   \n",
       "623884         1      1501286400     2                 0   \n",
       "\n",
       "        style_ Amazon Instant Video  style_ Amazon Video  style_ Apparel  \\\n",
       "0                                 0                    0               0   \n",
       "1                                 0                    0               0   \n",
       "2                                 0                    0               0   \n",
       "3                                 0                    0               0   \n",
       "4                                 0                    0               0   \n",
       "...                             ...                  ...             ...   \n",
       "623880                            0                    0               0   \n",
       "623881                            0                    0               0   \n",
       "623882                            0                    0               0   \n",
       "623883                            0                    0               0   \n",
       "623884                            0                    0               0   \n",
       "\n",
       "        style_ Audio CD  style_ Baby Product  style_ Blu-ray  ...  \\\n",
       "0                     0                    0               0  ...   \n",
       "1                     0                    0               0  ...   \n",
       "2                     0                    0               0  ...   \n",
       "3                     0                    0               0  ...   \n",
       "4                     0                    0               0  ...   \n",
       "...                 ...                  ...             ...  ...   \n",
       "623880                0                    0               0  ...   \n",
       "623881                0                    0               0  ...   \n",
       "623882                0                    0               0  ...   \n",
       "623883                0                    0               0  ...   \n",
       "623884                0                    0               0  ...   \n",
       "\n",
       "        style_ Tools & Hardware  style_ Tools & Home Improvement  style_ Toy  \\\n",
       "0                             0                                0           0   \n",
       "1                             0                                0           0   \n",
       "2                             0                                1           0   \n",
       "3                             0                                1           0   \n",
       "4                             0                                0           0   \n",
       "...                         ...                              ...         ...   \n",
       "623880                        0                                0           0   \n",
       "623881                        0                                0           0   \n",
       "623882                        0                                0           0   \n",
       "623883                        0                                0           0   \n",
       "623884                        0                                0           0   \n",
       "\n",
       "        style_ UMD for PSP  style_ Unknown Binding  style_ VHS Tape  \\\n",
       "0                        0                       0                0   \n",
       "1                        0                       0                0   \n",
       "2                        0                       0                0   \n",
       "3                        0                       0                0   \n",
       "4                        0                       0                0   \n",
       "...                    ...                     ...              ...   \n",
       "623880                   0                       0                0   \n",
       "623881                   0                       0                0   \n",
       "623882                   0                       0                0   \n",
       "623883                   0                       0                0   \n",
       "623884                   0                       0                0   \n",
       "\n",
       "        style_ Video Game  style_ Videotape  style_ Vinyl  \\\n",
       "0                       0                 0             0   \n",
       "1                       0                 0             0   \n",
       "2                       0                 0             0   \n",
       "3                       0                 0             0   \n",
       "4                       0                 0             0   \n",
       "...                   ...               ...           ...   \n",
       "623880                  0                 0             0   \n",
       "623881                  0                 0             0   \n",
       "623882                  0                 0             0   \n",
       "623883                  0                 0             0   \n",
       "623884                  0                 0             0   \n",
       "\n",
       "        style_ Wireless Phone Accessory  \n",
       "0                                     0  \n",
       "1                                     0  \n",
       "2                                     0  \n",
       "3                                     0  \n",
       "4                                     0  \n",
       "...                                 ...  \n",
       "623880                                0  \n",
       "623881                                0  \n",
       "623882                                0  \n",
       "623883                                0  \n",
       "623884                                0  \n",
       "\n",
       "[623885 rows x 54 columns]"
      ]
     },
     "execution_count": 12,
     "metadata": {},
     "output_type": "execute_result"
    }
   ],
   "source": [
    "X_lr"
   ]
  },
  {
   "cell_type": "code",
   "execution_count": 13,
   "id": "2e42ac2f",
   "metadata": {},
   "outputs": [
    {
     "name": "stdout",
     "output_type": "stream",
     "text": [
      "Mean Squared Error: 1.8595494507308832\n",
      "R2 Score: 0.05569713529366038\n"
     ]
    }
   ],
   "source": [
    "\n",
    "X_train, X_test, y_train, y_test = train_test_split(X_lr, y, test_size=0.2, random_state=0)\n",
    "\n",
    "model = LinearRegression()\n",
    "model.fit(X_train, y_train)\n",
    "\n",
    "y_pred = model.predict(X_test)\n",
    "\n",
    "mse = mean_squared_error(y_test, y_pred)\n",
    "r2 = r2_score(y_test, y_pred)\n",
    "\n",
    "print(\"Mean Squared Error:\", mse)\n",
    "print(\"R2 Score:\", r2)"
   ]
  },
  {
   "cell_type": "code",
   "execution_count": 14,
   "id": "5a0f5ef5",
   "metadata": {},
   "outputs": [
    {
     "data": {
      "text/plain": [
       "124777"
      ]
     },
     "execution_count": 14,
     "metadata": {},
     "output_type": "execute_result"
    }
   ],
   "source": [
    "len(X_test)"
   ]
  },
  {
   "cell_type": "code",
   "execution_count": 15,
   "id": "91cbb880",
   "metadata": {},
   "outputs": [
    {
     "data": {
      "text/plain": [
       "(59793, 0.4791988908212251)"
      ]
     },
     "execution_count": 15,
     "metadata": {},
     "output_type": "execute_result"
    }
   ],
   "source": [
    "threshold = 0.9\n",
    "\n",
    "\n",
    "correct_predictions = sum(abs(y_test - y_pred) <= threshold)\n",
    "\n",
    "accuracy_like_metric = correct_predictions / len(y_test)\n",
    "\n",
    "correct_predictions, accuracy_like_metric\n",
    "\n"
   ]
  },
  {
   "cell_type": "code",
   "execution_count": null,
   "id": "e4a36f96",
   "metadata": {},
   "outputs": [],
   "source": []
  },
  {
   "cell_type": "code",
   "execution_count": null,
   "id": "d1121028",
   "metadata": {},
   "outputs": [],
   "source": []
  },
  {
   "cell_type": "code",
   "execution_count": 50,
   "id": "d7f3a593",
   "metadata": {},
   "outputs": [
    {
     "name": "stdout",
     "output_type": "stream",
     "text": [
      "Accuracy: 0.47916683363119805\n",
      "              precision    recall  f1-score   support\n",
      "\n",
      "         1.0       0.89      0.07      0.12     15247\n",
      "         2.0       1.00      0.00      0.00      9611\n",
      "         3.0       0.44      0.00      0.00     14735\n",
      "         4.0       0.37      0.00      0.01     26459\n",
      "         5.0       0.48      1.00      0.64     58725\n",
      "\n",
      "    accuracy                           0.48    124777\n",
      "   macro avg       0.64      0.21      0.16    124777\n",
      "weighted avg       0.54      0.48      0.32    124777\n",
      "\n"
     ]
    }
   ],
   "source": [
    "from sklearn.feature_extraction.text import TfidfVectorizer\n",
    "from sklearn.naive_bayes import MultinomialNB\n",
    "from sklearn.model_selection import train_test_split\n",
    "from sklearn.metrics import accuracy_score, classification_report\n",
    "from sklearn.pipeline import make_pipeline\n",
    "\n",
    "\n",
    "X_train, X_test, y_train, y_test = train_test_split(df_encoded['reviewText'], df_encoded['overall'], test_size=0.2, random_state=42)\n",
    "\n",
    "model = make_pipeline(TfidfVectorizer(), MultinomialNB())\n",
    "\n",
    "model.fit(X_train, y_train)\n",
    "\n",
    "y_pred = model.predict(X_test)\n",
    "\n",
    "print(\"Accuracy:\", accuracy_score(y_test, y_pred))\n",
    "print(classification_report(y_test, y_pred))"
   ]
  },
  {
   "cell_type": "code",
   "execution_count": null,
   "id": "6959b93a",
   "metadata": {},
   "outputs": [],
   "source": []
  },
  {
   "cell_type": "code",
   "execution_count": null,
   "id": "91860213",
   "metadata": {},
   "outputs": [],
   "source": []
  },
  {
   "cell_type": "code",
   "execution_count": null,
   "id": "0153cc4a",
   "metadata": {},
   "outputs": [],
   "source": []
  },
  {
   "cell_type": "code",
   "execution_count": 42,
   "id": "0e543263",
   "metadata": {},
   "outputs": [],
   "source": [
    "from surprise import Dataset, Reader, SVD,accuracy\n",
    "from surprise.model_selection import cross_validate, KFold"
   ]
  },
  {
   "cell_type": "code",
   "execution_count": 43,
   "id": "c72e24fa",
   "metadata": {},
   "outputs": [
    {
     "name": "stdout",
     "output_type": "stream",
     "text": [
      "Evaluating RMSE, MAE of algorithm SVD on 5 split(s).\n",
      "\n",
      "                  Fold 1  Fold 2  Fold 3  Fold 4  Fold 5  Mean    Std     \n",
      "RMSE (testset)    1.2027  1.2047  1.2018  1.2023  1.1998  1.2023  0.0016  \n",
      "MAE (testset)     0.9604  0.9617  0.9606  0.9605  0.9573  0.9601  0.0015  \n",
      "Fit time          5.62    5.81    6.18    6.00    6.03    5.93    0.19    \n",
      "Test time         0.49    1.76    0.54    0.54    1.75    1.02    0.61    \n"
     ]
    }
   ],
   "source": [
    "reader = Reader(rating_scale=(1, 5))\n",
    "data = Dataset.load_from_df(df_encoded[['reviewerID', 'asin', 'overall']], reader)\n",
    "\n",
    "svd = SVD()\n",
    "\n",
    "cv_results = cross_validate(svd, data, measures=['RMSE', 'MAE'], cv=5, verbose=True)\n"
   ]
  },
  {
   "cell_type": "code",
   "execution_count": 45,
   "id": "f8b118dd",
   "metadata": {},
   "outputs": [],
   "source": [
    "import numpy as np"
   ]
  },
  {
   "cell_type": "code",
   "execution_count": 46,
   "id": "d6fc88f6",
   "metadata": {},
   "outputs": [
    {
     "name": "stdout",
     "output_type": "stream",
     "text": [
      "Average Test MSE: 1.4464791511506625\n"
     ]
    }
   ],
   "source": [
    "\n",
    "kf = KFold(n_splits=5)\n",
    "mse_scores = []\n",
    "\n",
    "for trainset, testset in kf.split(data):\n",
    "    svd.fit(trainset)\n",
    "\n",
    "    predictions = svd.test(testset)\n",
    "\n",
    "    mse = accuracy.mse(predictions, verbose=False)\n",
    "    mse_scores.append(mse)\n",
    "\n",
    "average_mse = np.mean(mse_scores)\n",
    "print(f'Average Test MSE: {average_mse}')"
   ]
  },
  {
   "cell_type": "code",
   "execution_count": 48,
   "id": "1c11cbf7",
   "metadata": {},
   "outputs": [
    {
     "name": "stdout",
     "output_type": "stream",
     "text": [
      "Custom Accuracy (with tolerance ±0.5): 0.31\n"
     ]
    }
   ],
   "source": [
    "def custom_accuracy(predictions, tolerance=0.5):\n",
    "    correct = 0\n",
    "    for uid, iid, true_r, est, _ in predictions:\n",
    "        if abs(true_r - est) <= tolerance:\n",
    "            correct += 1\n",
    "    return correct / len(predictions)\n",
    "\n",
    "custom_acc = custom_accuracy(predictions)\n",
    "print(f'Custom Accuracy (with tolerance ±{0.5}): {custom_acc:.2f}')"
   ]
  },
  {
   "cell_type": "code",
   "execution_count": null,
   "id": "9c712ad2",
   "metadata": {},
   "outputs": [],
   "source": []
  },
  {
   "cell_type": "code",
   "execution_count": 9,
   "id": "ad70b9b9",
   "metadata": {},
   "outputs": [
    {
     "name": "stdout",
     "output_type": "stream",
     "text": [
      "Model: \"sequential_3\"\n",
      "_________________________________________________________________\n",
      " Layer (type)                Output Shape              Param #   \n",
      "=================================================================\n",
      " embedding_3 (Embedding)     (None, 300, 128)          1280000   \n",
      "                                                                 \n",
      " conv1d_3 (Conv1D)           (None, 296, 128)          82048     \n",
      "                                                                 \n",
      " batch_normalization_6 (Batc  (None, 296, 128)         512       \n",
      " hNormalization)                                                 \n",
      "                                                                 \n",
      " global_max_pooling1d_3 (Glo  (None, 128)              0         \n",
      " balMaxPooling1D)                                                \n",
      "                                                                 \n",
      " dense_8 (Dense)             (None, 64)                8256      \n",
      "                                                                 \n",
      " batch_normalization_7 (Batc  (None, 64)               256       \n",
      " hNormalization)                                                 \n",
      "                                                                 \n",
      " dropout_4 (Dropout)         (None, 64)                0         \n",
      "                                                                 \n",
      " dense_9 (Dense)             (None, 32)                2080      \n",
      "                                                                 \n",
      " batch_normalization_8 (Batc  (None, 32)               128       \n",
      " hNormalization)                                                 \n",
      "                                                                 \n",
      " dropout_5 (Dropout)         (None, 32)                0         \n",
      "                                                                 \n",
      " dense_10 (Dense)            (None, 5)                 165       \n",
      "                                                                 \n",
      "=================================================================\n",
      "Total params: 1,373,445\n",
      "Trainable params: 1,372,997\n",
      "Non-trainable params: 448\n",
      "_________________________________________________________________\n"
     ]
    }
   ],
   "source": [
    "from keras.models import load_model\n",
    "\n",
    "# Replace 'path/to/your/model.h5' with the actual path to your .h5 file\n",
    "model_path = 'CNN_pred.h5'\n",
    "\n",
    "# Load the model\n",
    "loaded_model = load_model(model_path)\n",
    "\n",
    "# Display the summary of the model\n",
    "loaded_model.summary()"
   ]
  },
  {
   "cell_type": "code",
   "execution_count": null,
   "id": "884b4c3c",
   "metadata": {},
   "outputs": [],
   "source": []
  },
  {
   "cell_type": "code",
   "execution_count": null,
   "id": "d202eee4",
   "metadata": {},
   "outputs": [],
   "source": []
  },
  {
   "cell_type": "code",
   "execution_count": 24,
   "id": "1b7c379c",
   "metadata": {},
   "outputs": [],
   "source": [
    "import tensorflow as tf\n",
    "from tensorflow.keras.models import Sequential\n",
    "from tensorflow.keras.layers import Embedding, Conv1D, GlobalMaxPooling1D, Dense, Dropout, BatchNormalization\n",
    "\n",
    "from tensorflow.keras.preprocessing.text import Tokenizer\n",
    "from tensorflow.keras.preprocessing.sequence import pad_sequences\n",
    "from sklearn.model_selection import train_test_split\n",
    "from tensorflow.keras.utils import to_categorical"
   ]
  },
  {
   "cell_type": "code",
   "execution_count": 17,
   "id": "930c2fac",
   "metadata": {},
   "outputs": [],
   "source": [
    "tokenizer = Tokenizer(num_words=10000)\n",
    "tokenizer.fit_on_texts(df_encoded['reviewText'])\n",
    "sequences = tokenizer.texts_to_sequences(df_encoded['reviewText'])"
   ]
  },
  {
   "cell_type": "code",
   "execution_count": 27,
   "id": "ce951a21",
   "metadata": {},
   "outputs": [],
   "source": [
    "\n",
    "maxlen = 300\n",
    "data = pad_sequences(sequences, maxlen=maxlen)\n",
    "\n",
    "labels = to_categorical(df_encoded['overall'] - 1)\n",
    "\n",
    "X_train, X_test, y_train, y_test = train_test_split(data, labels, test_size=0.2, random_state=42)\n"
   ]
  },
  {
   "cell_type": "code",
   "execution_count": 28,
   "id": "f0f5d4a7",
   "metadata": {},
   "outputs": [
    {
     "name": "stdout",
     "output_type": "stream",
     "text": [
      "Default GPU Device: /device:GPU:0\n"
     ]
    }
   ],
   "source": [
    "if tf.test.gpu_device_name():\n",
    "    print('Default GPU Device: {}'.format(tf.test.gpu_device_name()))\n",
    "else:\n",
    "    print(\"GPU device not found\")"
   ]
  },
  {
   "cell_type": "code",
   "execution_count": 30,
   "id": "d6a39eee",
   "metadata": {},
   "outputs": [
    {
     "name": "stdout",
     "output_type": "stream",
     "text": [
      "Epoch 1/4\n",
      "15598/15598 [==============================] - 107s 7ms/step - loss: 1.0319 - accuracy: 0.5843 - val_loss: 0.8782 - val_accuracy: 0.6412\n",
      "Epoch 2/4\n",
      "15598/15598 [==============================] - 111s 7ms/step - loss: 0.9042 - accuracy: 0.6342 - val_loss: 0.8516 - val_accuracy: 0.6508\n",
      "Epoch 3/4\n",
      "15598/15598 [==============================] - 111s 7ms/step - loss: 0.8469 - accuracy: 0.6587 - val_loss: 0.8406 - val_accuracy: 0.6569\n",
      "Epoch 4/4\n",
      "15598/15598 [==============================] - 112s 7ms/step - loss: 0.7889 - accuracy: 0.6834 - val_loss: 0.8522 - val_accuracy: 0.6551\n"
     ]
    }
   ],
   "source": [
    "with tf.device('/GPU:0'):\n",
    "    model = Sequential()\n",
    "    model.add(Embedding(10000, 128, input_length=maxlen))  # Embedding layer\n",
    "    model.add(Conv1D(128, 5, activation='relu'))  # First Convolutional layer\n",
    "    model.add(BatchNormalization())  # Batch Normalization after Convolutional layer\n",
    "    model.add(GlobalMaxPooling1D())\n",
    "    model.add(Dense(64, activation='relu'))  # Additional Dense layer\n",
    "    model.add(BatchNormalization())  # Batch Normalization after Dense layer\n",
    "    model.add(Dropout(0.5))  # Dropout for regularization\n",
    "\n",
    "    model.add(Dense(32, activation='relu'))  # Another Dense layer\n",
    "    model.add(BatchNormalization())  # Batch Normalization\n",
    "    model.add(Dropout(0.5))  # Dropout\n",
    "\n",
    "    model.add(Dense(5, activation='softmax')) \n",
    "    # Compile the model\n",
    "    model.compile(optimizer='adam',\n",
    "                  loss='categorical_crossentropy', \n",
    "                  metrics=['accuracy'])\n",
    "\n",
    "    # Train the model\n",
    "    model.fit(X_train, y_train, epochs=4, batch_size=32, validation_data=(X_test, y_test))"
   ]
  },
  {
   "cell_type": "code",
   "execution_count": 31,
   "id": "30c1bd51",
   "metadata": {},
   "outputs": [
    {
     "name": "stdout",
     "output_type": "stream",
     "text": [
      "3900/3900 [==============================] - 10s 2ms/step - loss: 0.8522 - accuracy: 0.6551\n",
      "Accuracy: 0.65513676404953\n"
     ]
    }
   ],
   "source": [
    "\n",
    "loss, accuracy = model.evaluate(X_test, y_test)\n",
    "print(f'Accuracy: {accuracy}')"
   ]
  },
  {
   "cell_type": "code",
   "execution_count": 50,
   "id": "5eeef4f5",
   "metadata": {},
   "outputs": [],
   "source": [
    "model.save('CNN_pred.h5')"
   ]
  },
  {
   "cell_type": "code",
   "execution_count": null,
   "id": "22272a74",
   "metadata": {},
   "outputs": [],
   "source": []
  },
  {
   "cell_type": "code",
   "execution_count": 51,
   "id": "e659005a",
   "metadata": {},
   "outputs": [],
   "source": [
    "import tensorflow as tf\n",
    "from tensorflow.keras.models import Sequential\n",
    "from tensorflow.keras.layers import LSTM, Dense, Embedding\n",
    "from tensorflow.keras.preprocessing.sequence import pad_sequences\n",
    "\n"
   ]
  },
  {
   "cell_type": "code",
   "execution_count": 56,
   "id": "8430b514",
   "metadata": {},
   "outputs": [
    {
     "name": "stdout",
     "output_type": "stream",
     "text": [
      "Epoch 1/4\n",
      "15598/15598 [==============================] - 564s 36ms/step - loss: 0.9804 - accuracy: 0.6018 - val_loss: 0.8659 - val_accuracy: 0.6386\n",
      "Epoch 2/4\n",
      "15598/15598 [==============================] - 558s 36ms/step - loss: 0.8603 - accuracy: 0.6521 - val_loss: 0.8149 - val_accuracy: 0.6650\n",
      "Epoch 3/4\n",
      "15598/15598 [==============================] - 559s 36ms/step - loss: 0.7990 - accuracy: 0.6766 - val_loss: 0.8012 - val_accuracy: 0.6732\n",
      "Epoch 4/4\n",
      "15598/15598 [==============================] - 558s 36ms/step - loss: 0.7501 - accuracy: 0.6988 - val_loss: 0.8092 - val_accuracy: 0.6695\n",
      "3900/3900 [==============================] - 62s 16ms/step - loss: 0.8092 - accuracy: 0.6695\n",
      "Test MSE: [0.8092278242111206, 0.6694823503494263]\n"
     ]
    }
   ],
   "source": [
    "maxlen = 300 \n",
    "embedding_dim = 128 \n",
    "num_classes = 5  \n",
    "\n",
    "with tf.device('/GPU:0'):\n",
    "    model = Sequential()\n",
    "    model.add(Embedding(10000, embedding_dim, input_length=maxlen))\n",
    "    model.add(LSTM(64, return_sequences=True))\n",
    "    model.add(LSTM(32)) t\n",
    "    model.add(Dense(64, activation='relu')) \n",
    "    model.add(BatchNormalization())\n",
    "    model.add(Dropout(0.5)) \n",
    "    model.add(Dense(num_classes, activation='softmax'))\n",
    "\n",
    "    model.compile(optimizer='adam',\n",
    "                  loss='categorical_crossentropy', \n",
    "                  metrics=['accuracy'])\n",
    "\n",
    "    model.fit(X_train, y_train, epochs=4, batch_size=32, validation_data=(X_test, y_test))\n",
    "mse = model.evaluate(X_test, y_test)\n",
    "print(f'Test MSE: {mse}')"
   ]
  },
  {
   "cell_type": "code",
   "execution_count": 57,
   "id": "9dd36191",
   "metadata": {},
   "outputs": [
    {
     "name": "stdout",
     "output_type": "stream",
     "text": [
      "3900/3900 [==============================] - 60s 15ms/step - loss: 0.8092 - accuracy: 0.6695\n",
      "Accuracy: 0.6694823503494263\n"
     ]
    }
   ],
   "source": [
    "loss, accuracy = model.evaluate(X_test, y_test)\n",
    "print(f'Accuracy: {accuracy}')"
   ]
  },
  {
   "cell_type": "code",
   "execution_count": 58,
   "id": "e1144791",
   "metadata": {},
   "outputs": [
    {
     "name": "stdout",
     "output_type": "stream",
     "text": [
      "3900/3900 [==============================] - 57s 14ms/step\n",
      "RNN Model MSE: 0.7974867163018825\n"
     ]
    }
   ],
   "source": [
    "# Predicting the values for the test set\n",
    "y_pred_rnn = model.predict(X_test)\n",
    "\n",
    "# If your target variable (y_test) is one-hot encoded, convert predictions back to labels\n",
    "y_pred_rnn = np.argmax(y_pred_rnn, axis=1)\n",
    "y_test_labels = np.argmax(y_test, axis=1)\n",
    "\n",
    "# Calculate the MSE\n",
    "mse_rnn = mean_squared_error(y_test_labels, y_pred_rnn)\n",
    "print(f\"RNN Model MSE: {mse_rnn}\")"
   ]
  },
  {
   "cell_type": "code",
   "execution_count": 59,
   "id": "1b50551d",
   "metadata": {},
   "outputs": [],
   "source": [
    "model.save('RNN_pred.h5')"
   ]
  },
  {
   "cell_type": "code",
   "execution_count": null,
   "id": "515babf5",
   "metadata": {},
   "outputs": [],
   "source": []
  },
  {
   "cell_type": "code",
   "execution_count": 1,
   "id": "13378fd9",
   "metadata": {},
   "outputs": [],
   "source": [
    "import matplotlib as plt\n",
    "import pandas as pd"
   ]
  },
  {
   "cell_type": "code",
   "execution_count": 2,
   "id": "ce0116e8",
   "metadata": {},
   "outputs": [],
   "source": [
    "data = {\n",
    "    \"Model\": ['Linear regression', 'Multinomial NB', 'SVD','Latent Factor', 'CNN', 'LSTM'],\n",
    "    \"Accuracy\": ['NA', '48.7%', 'NA', 'NA', '65.5%', '66.9%']\n",
    "}\n",
    "\n",
    "df = pd.DataFrame(data)"
   ]
  },
  {
   "cell_type": "code",
   "execution_count": 3,
   "id": "41f5e55a",
   "metadata": {},
   "outputs": [
    {
     "data": {
      "text/html": [
       "<table border=\"1\" class=\"dataframe\">\n",
       "  <thead>\n",
       "    <tr style=\"text-align: right;\">\n",
       "      <th>Model</th>\n",
       "      <th>Accuracy</th>\n",
       "    </tr>\n",
       "  </thead>\n",
       "  <tbody>\n",
       "    <tr>\n",
       "      <td>Linear regression</td>\n",
       "      <td>NA</td>\n",
       "    </tr>\n",
       "    <tr>\n",
       "      <td>Multinomial NB</td>\n",
       "      <td>48.7%</td>\n",
       "    </tr>\n",
       "    <tr>\n",
       "      <td>SVD</td>\n",
       "      <td>NA</td>\n",
       "    </tr>\n",
       "    <tr>\n",
       "      <td>Latent Factor</td>\n",
       "      <td>NA</td>\n",
       "    </tr>\n",
       "    <tr>\n",
       "      <td>CNN</td>\n",
       "      <td>65.5%</td>\n",
       "    </tr>\n",
       "    <tr>\n",
       "      <td>LSTM</td>\n",
       "      <td>66.9%</td>\n",
       "    </tr>\n",
       "  </tbody>\n",
       "</table>"
      ],
      "text/plain": [
       "<IPython.core.display.HTML object>"
      ]
     },
     "metadata": {},
     "output_type": "display_data"
    }
   ],
   "source": [
    "from IPython.display import display, HTML\n",
    "\n",
    "html_table = df.to_html(index=False)\n",
    "display(HTML(html_table))"
   ]
  },
  {
   "cell_type": "code",
   "execution_count": 4,
   "id": "b256ecdf",
   "metadata": {},
   "outputs": [
    {
     "data": {
      "text/html": [
       "<table border=\"1\" class=\"dataframe\">\n",
       "  <thead>\n",
       "    <tr style=\"text-align: right;\">\n",
       "      <th>Model</th>\n",
       "      <th>MSE</th>\n",
       "    </tr>\n",
       "  </thead>\n",
       "  <tbody>\n",
       "    <tr>\n",
       "      <td>Linear regression</td>\n",
       "      <td>1.86</td>\n",
       "    </tr>\n",
       "    <tr>\n",
       "      <td>Multinomial NB</td>\n",
       "      <td>1.13</td>\n",
       "    </tr>\n",
       "    <tr>\n",
       "      <td>SVD</td>\n",
       "      <td>1.45</td>\n",
       "    </tr>\n",
       "    <tr>\n",
       "      <td>Latent Factor</td>\n",
       "      <td>0.864</td>\n",
       "    </tr>\n",
       "    <tr>\n",
       "      <td>CNN</td>\n",
       "      <td>0.79</td>\n",
       "    </tr>\n",
       "    <tr>\n",
       "      <td>LSTM</td>\n",
       "      <td>0.74</td>\n",
       "    </tr>\n",
       "  </tbody>\n",
       "</table>"
      ],
      "text/plain": [
       "<IPython.core.display.HTML object>"
      ]
     },
     "metadata": {},
     "output_type": "display_data"
    }
   ],
   "source": [
    "data = {\n",
    "    \"Model\": ['Linear regression', 'Multinomial NB', 'SVD', 'Latent Factor', 'CNN', 'LSTM'],\n",
    "    \"MSE\": ['1.86', '1.13', '1.45','0.864', '0.79', '0.74']\n",
    "}\n",
    "df = pd.DataFrame(data)\n",
    "html_table = df.to_html(index=False)\n",
    "display(HTML(html_table))"
   ]
  },
  {
   "cell_type": "code",
   "execution_count": null,
   "id": "8a5bb66d",
   "metadata": {},
   "outputs": [],
   "source": []
  },
  {
   "cell_type": "code",
   "execution_count": null,
   "id": "cb65582b",
   "metadata": {},
   "outputs": [],
   "source": []
  }
 ],
 "metadata": {
  "kernelspec": {
   "display_name": "Python 3 (ipykernel)",
   "language": "python",
   "name": "python3"
  },
  "language_info": {
   "codemirror_mode": {
    "name": "ipython",
    "version": 3
   },
   "file_extension": ".py",
   "mimetype": "text/x-python",
   "name": "python",
   "nbconvert_exporter": "python",
   "pygments_lexer": "ipython3",
   "version": "3.9.0"
  }
 },
 "nbformat": 4,
 "nbformat_minor": 5
}
